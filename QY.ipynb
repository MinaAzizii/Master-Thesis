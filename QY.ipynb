{
  "cells": [
    {
      "cell_type": "markdown",
      "metadata": {
        "id": "view-in-github",
        "colab_type": "text"
      },
      "source": [
        "<a href=\"https://colab.research.google.com/github/MinaAzizii/Master-Thesis/blob/Predictive-Models/QY.ipynb\" target=\"_parent\"><img src=\"https://colab.research.google.com/assets/colab-badge.svg\" alt=\"Open In Colab\"/></a>"
      ]
    },
    {
      "cell_type": "code",
      "execution_count": null,
      "metadata": {
        "id": "_V7d3SGdQzgc"
      },
      "outputs": [],
      "source": [
        "!pip uninstall torch torchvision torchaudio"
      ]
    },
    {
      "cell_type": "code",
      "execution_count": null,
      "metadata": {
        "id": "e9yU_x8PQ7HN"
      },
      "outputs": [],
      "source": [
        "!pip install torch==2.1.0 torchvision torchaudio --index-url https://download.pytorch.org/whl/cu121  # GPU version\n",
        "!pip install torch-scatter -f https://data.pyg.org/whl/torch-2.1.0+cu121.html\n",
        "!pip install torch-sparse -f https://data.pyg.org/whl/torch-2.1.0+cu121.html\n",
        "!pip install torch-geometric"
      ]
    },
    {
      "cell_type": "code",
      "execution_count": null,
      "metadata": {
        "id": "AMDSIDciQ9tS"
      },
      "outputs": [],
      "source": [
        "import torch\n",
        "if torch.cuda.is_available():\n",
        "    print(\"✅ CUDA is available!\")\n",
        "else:\n",
        "    print(\"❌ CUDA is not available. Check your PyTorch installation.\")"
      ]
    },
    {
      "cell_type": "code",
      "execution_count": null,
      "metadata": {
        "id": "QSAlLYYNRAtk"
      },
      "outputs": [],
      "source": [
        "!pip install --upgrade numpy==1.24.4 # Ensure numpy is upgraded as well"
      ]
    },
    {
      "cell_type": "code",
      "execution_count": null,
      "metadata": {
        "id": "RSz4UwymRDfJ"
      },
      "outputs": [],
      "source": [
        "!pip install pandas openpyxl seaborn matplotlib tqdm scikit-learn"
      ]
    },
    {
      "cell_type": "code",
      "execution_count": null,
      "metadata": {
        "id": "ixghmZw_RGdg"
      },
      "outputs": [],
      "source": [
        "!pip install rdkit-pypi scikit-learn matplotlib"
      ]
    },
    {
      "cell_type": "code",
      "execution_count": null,
      "metadata": {
        "id": "mSE43e3URJG0"
      },
      "outputs": [],
      "source": [
        "!pip install networkx==2.8.8\n",
        "\n"
      ]
    },
    {
      "cell_type": "code",
      "execution_count": null,
      "metadata": {
        "id": "tpIOwpKERLbf"
      },
      "outputs": [],
      "source": [
        "!pip install mordred"
      ]
    },
    {
      "cell_type": "code",
      "execution_count": null,
      "metadata": {
        "id": "rISeZShMRN-V"
      },
      "outputs": [],
      "source": [
        "import torch\n",
        "import torch.nn as nn\n",
        "import torch.optim as optim\n",
        "from torch.utils.data import Dataset\n",
        "from torch_geometric.loader import DataLoader\n",
        "from torch_geometric.data import Data, Batch\n",
        "from torch_geometric.nn import NNConv, global_mean_pool\n",
        "from rdkit import Chem\n",
        "from rdkit.Chem import Descriptors\n",
        "import pandas as pd\n",
        "import numpy as np\n",
        "from sklearn.preprocessing import StandardScaler\n",
        "from sklearn.metrics import r2_score\n",
        "from sklearn.model_selection import train_test_split\n",
        "from sklearn.metrics import mean_squared_error\n",
        "import seaborn as sns\n",
        "import matplotlib.pyplot as plt\n",
        "import random\n",
        "from rdkit import RDLogger"
      ]
    },
    {
      "cell_type": "code",
      "execution_count": null,
      "metadata": {
        "id": "7KiTf7RWIfOU"
      },
      "outputs": [],
      "source": [
        "RDLogger.DisableLog('rdApp.*')"
      ]
    },
    {
      "cell_type": "code",
      "execution_count": null,
      "metadata": {
        "id": "m0KLcujH64fj"
      },
      "outputs": [],
      "source": [
        "seed = 42\n",
        "torch.manual_seed(seed)\n",
        "torch.cuda.manual_seed(seed)\n",
        "torch.cuda.manual_seed_all(seed)\n",
        "np.random.seed(seed)\n",
        "random.seed(seed)"
      ]
    },
    {
      "cell_type": "code",
      "execution_count": null,
      "metadata": {
        "id": "QHBilE_XAcqm"
      },
      "outputs": [],
      "source": [
        "def compute_descriptors(smiles, func_list):\n",
        "    m = Chem.MolFromSmiles(smiles)\n",
        "    vals = []\n",
        "    for _, fn in func_list:\n",
        "        try:\n",
        "            v = fn(m)\n",
        "            vals.append(v if np.isfinite(v) else 0.0)\n",
        "        except:\n",
        "            vals.append(0.0)\n",
        "    return np.array(vals, dtype=float)"
      ]
    },
    {
      "cell_type": "code",
      "execution_count": null,
      "metadata": {
        "id": "YQ6r4FqTqZet"
      },
      "outputs": [],
      "source": [
        "# 1) LOAD & CLEAN\n",
        "df = pd.read_excel(\"DB2.xlsx\")\n",
        "# assume QY values are in column 'QY'\n",
        "df = df.dropna(subset=['smiles', 'solvent', 'QY', 'solvent_name'])\n",
        "mask_valid = (\n",
        "    df['smiles'].apply(lambda s: Chem.MolFromSmiles(s) is not None) &\n",
        "    df['solvent'].apply(lambda s: Chem.MolFromSmiles(s) is not None)\n",
        ")\n",
        "df = df[mask_valid].reset_index(drop=True)\n",
        "print(f\"Dropped {len(df) - len(df)} rows with invalid SMILES or missing 'QY'.\")\n",
        "# report how many samples remain\n",
        "print(f\"Number of samples with valid QY: {len(df)}\")\n",
        "# or equivalently\n",
        "print(f\"Dataset shape: {df.shape}\")  # (rows, columns)"
      ]
    },
    {
      "cell_type": "code",
      "execution_count": null,
      "metadata": {
        "id": "OZ9J58YOCtHr"
      },
      "outputs": [],
      "source": [
        "from rdkit import Chem\n",
        "from rdkit.Chem import SanitizeMol, SanitizeFlags\n",
        "\n",
        "# … after df = df[mask_valid].reset_index(drop=True) …\n",
        "\n",
        "bad = []  # list of (column, row_index, smi)\n",
        "for col in ['smiles','solvent']:\n",
        "    for i, smi in enumerate(df[col]):\n",
        "        m = Chem.MolFromSmiles(smi, sanitize=False)\n",
        "        code = Chem.SanitizeMol(m,\n",
        "                                sanitizeOps=SanitizeFlags.SANITIZE_PROPERTIES,\n",
        "                                catchErrors=True)\n",
        "        if code != Chem.SanitizeFlags.SANITIZE_NONE:\n",
        "            bad.append((col, i, smi))\n",
        "\n",
        "if bad:\n",
        "    print(\"⚠️ Found unusual‐charge warnings in these rows:\")\n",
        "    for col, i, smi in bad:\n",
        "        print(f\" • {col} @ row {i}: {smi}\")\n",
        "    # optionally drop them:\n",
        "    drop_idxs = {i for _, i, _ in bad}\n",
        "    df = df.drop(drop_idxs).reset_index(drop=True)\n",
        "    print(f\"Dropped {len(drop_idxs)} rows.\")\n",
        "else:\n",
        "    print(\"No unusual‐charge warnings detected.\")\n",
        "\n",
        "print(f\"Remaining samples: {len(df)}\")\n"
      ]
    },
    {
      "cell_type": "code",
      "execution_count": null,
      "metadata": {
        "id": "OfU0oEoSCIhr"
      },
      "outputs": [],
      "source": [
        "# --- validate SMILES for both molecule and solvent ---\n",
        "is_valid_mol = df['smiles'].apply(lambda s: Chem.MolFromSmiles(s) is not None)\n",
        "is_valid_sol = df['solvent'].apply(lambda s: Chem.MolFromSmiles(s) is not None)\n",
        "mask_valid   = is_valid_mol & is_valid_sol\n",
        "\n",
        "# count and remove invalid rows\n",
        "n_invalid = (~mask_valid).sum()\n",
        "df        = df[mask_valid].reset_index(drop=True)\n",
        "print(f\"Removed {n_invalid} rows with invalid SMILES.\")\n",
        "\n",
        "# report how many samples remain\n",
        "print(f\"Remaining samples (with valid 'QY'): {len(df)}\")"
      ]
    },
    {
      "cell_type": "code",
      "execution_count": null,
      "metadata": {
        "id": "-bQ3-B_VBngQ"
      },
      "outputs": [],
      "source": [
        "# 2) DESCRIPTORS\n",
        "mol_funcs = [\n",
        "    (\"Mol_MolWt\", Descriptors.MolWt),\n",
        "    (\"Mol_TPSA\", Descriptors.TPSA),\n",
        "    (\"Mol_NumRotatableBonds\", Descriptors.NumRotatableBonds),\n",
        "    (\"Mol_LogP\", Descriptors.MolLogP),\n",
        "    (\"Mol_Aromaticity\", Descriptors.NumAromaticRings),\n",
        "    (\"Mol_NumHDonors\", Descriptors.NumHDonors),\n",
        "    (\"Mol_NumHAcceptors\", Descriptors.NumHAcceptors),\n",
        "    (\"Mol_FractionCSP3\", Descriptors.FractionCSP3),\n",
        "    (\"Mol_HeteroatomCount\", Descriptors.HeavyAtomCount),\n",
        "]\n",
        "solvent_funcs = [\n",
        "    (\"Solv_MolWt\", Descriptors.MolWt),\n",
        "    (\"Solv_TPSA\", Descriptors.TPSA),\n",
        "    (\"Solv_MolLogP\", Descriptors.MolLogP),\n",
        "    (\"Solv_NumHDonors\", Descriptors.NumHDonors),\n",
        "]\n",
        "\n",
        "# precompute raw arrays\n",
        "mol_raw = {sm: compute_descriptors(sm, mol_funcs) for sm in df['smiles'].unique()}\n",
        "solv_raw = {sm: compute_descriptors(sm, solvent_funcs) for sm in df['solvent'].unique()}\n",
        "\n",
        "mol_arr = np.vstack([mol_raw[sm] for sm in df['smiles']])\n",
        "solv_arr = np.vstack([solv_raw[sm] for sm in df['solvent']])\n",
        "\n",
        "desc_df = pd.DataFrame({\n",
        "    'smiles': df['smiles'],\n",
        "    'solvent': df['solvent'],\n",
        "    'QY': df['QY'],\n",
        "    'solvent_name': df['solvent_name']\n",
        "})\n",
        "for i, (col, _) in enumerate(solvent_funcs):\n",
        "    desc_df[col] = solv_arr[:, i]\n",
        "for i, (col, _) in enumerate(mol_funcs):\n",
        "    desc_df[col] = mol_arr[:, i]\n",
        "desc_df.to_excel(\"all_raw_descriptors.xlsx\", index=False)\n",
        "print(\"✅ Saved all_raw_descriptors.xlsx\")"
      ]
    },
    {
      "cell_type": "code",
      "execution_count": null,
      "metadata": {
        "id": "N1s1y8dnCrP-"
      },
      "outputs": [],
      "source": [
        "# 3) SPLIT & SCALE\n",
        "train_df, val_df = train_test_split(df, test_size=0.2, random_state=42)\n",
        "\n",
        "solv_scaler   = StandardScaler().fit(solv_arr)\n",
        "mol_scaler    = StandardScaler().fit(mol_arr)\n",
        "\n",
        "\n",
        "solv_scaled = {sm: torch.tensor(solv_scaler.transform(raw.reshape(1, -1))[0], dtype=torch.float)\n",
        "               for sm, raw in solv_raw.items()}\n",
        "mol_scaled  = {sm: torch.tensor(mol_scaler.transform(raw.reshape(1, -1))[0], dtype=torch.float)\n",
        "               for sm, raw in mol_raw.items()}"
      ]
    },
    {
      "cell_type": "code",
      "execution_count": null,
      "metadata": {
        "id": "plB6Se7pAQRV"
      },
      "outputs": [],
      "source": [
        "# graph conversion\n",
        "def mol_to_graph(smiles):\n",
        "    mol = Chem.MolFromSmiles(smiles)\n",
        "    atoms = mol.GetAtoms()\n",
        "    heavy = [i for i, a in enumerate(atoms) if a.GetAtomicNum() > 1] or list(range(len(atoms)))\n",
        "    idx_map = {old: i for i, old in enumerate(heavy)}\n",
        "    x = torch.tensor([[atoms[i].GetAtomicNum(), atoms[i].GetFormalCharge(), atoms[i].GetNumExplicitHs()]\n",
        "                      for i in heavy], dtype=torch.float)\n",
        "    edges, attrs = [], []\n",
        "    for b in mol.GetBonds():\n",
        "        i, j = b.GetBeginAtomIdx(), b.GetEndAtomIdx()\n",
        "        if i in heavy and j in heavy:\n",
        "            ei, ej = idx_map[i], idx_map[j]\n",
        "            onehot = [int(b.GetBondType() == t) for t in\n",
        "                      (Chem.rdchem.BondType.SINGLE, Chem.rdchem.BondType.DOUBLE,\n",
        "                       Chem.rdchem.BondType.TRIPLE, Chem.rdchem.BondType.AROMATIC)]\n",
        "            edges += [[ei, ej], [ej, ei]]\n",
        "            attrs += [onehot, onehot]\n",
        "    if not edges:\n",
        "        edge_index = torch.zeros((2, 0), dtype=torch.long)\n",
        "        edge_attr  = torch.zeros((0, 4), dtype=torch.float)\n",
        "    else:\n",
        "        edge_index = torch.tensor(edges, dtype=torch.long).t().contiguous()\n",
        "        edge_attr  = torch.tensor(attrs, dtype=torch.float)\n",
        "    return Data(x=x, edge_index=edge_index, edge_attr=edge_attr)\n"
      ]
    },
    {
      "cell_type": "code",
      "execution_count": null,
      "metadata": {
        "id": "7EDK8fXBAXWQ"
      },
      "outputs": [],
      "source": [
        "class EmiDataset(Dataset):\n",
        "    def __init__(self, df): self.df = df.reset_index(drop=True)\n",
        "    def __len__(self): return len(self.df)\n",
        "    def __getitem__(self, i):\n",
        "        row = self.df.iloc[i]\n",
        "        mg = mol_to_graph(row['smiles'])\n",
        "        sg = mol_to_graph(row['solvent'])\n",
        "        sdesc = solv_scaled[row['solvent']]\n",
        "        mdesc = mol_scaled[row['smiles']]\n",
        "        y = torch.tensor(row['QY'], dtype=torch.float)\n",
        "        return mg, sg, sdesc, mdesc, y, row['solvent_name']\n"
      ]
    },
    {
      "cell_type": "code",
      "execution_count": null,
      "metadata": {
        "id": "6uMsnqGvAc5j"
      },
      "outputs": [],
      "source": [
        "def collate_fn(batch):\n",
        "    mg, sg, sd, md, y, names = zip(*batch)\n",
        "    return (Batch.from_data_list(mg), Batch.from_data_list(sg),\n",
        "            torch.stack(sd), torch.stack(md), torch.stack(y), list(names))\n",
        "\n",
        "train_loader = DataLoader(EmiDataset(train_df), batch_size=32, shuffle=True,  collate_fn=collate_fn)\n",
        "val_loader   = DataLoader(EmiDataset(val_df),   batch_size=64, shuffle=False, collate_fn=collate_fn)\n"
      ]
    },
    {
      "cell_type": "code",
      "execution_count": null,
      "metadata": {
        "id": "-rFI_x07tUd5"
      },
      "outputs": [],
      "source": [
        "class GCNEncoder(nn.Module):\n",
        "    def __init__(self, in_dim, hid, out_dim):\n",
        "        super().__init__()\n",
        "        # edge networks\n",
        "        self.e1 = nn.Sequential(nn.Linear(4, hid * in_dim), nn.ReLU(), nn.Linear(hid * in_dim, hid * in_dim))\n",
        "        self.e2 = nn.Sequential(nn.Linear(4, hid * hid), nn.ReLU(), nn.Linear(hid * hid, hid * hid))\n",
        "        self.e3 = nn.Sequential(nn.Linear(4, out_dim * hid), nn.ReLU(), nn.Linear(out_dim * hid, out_dim * hid))\n",
        "\n",
        "        # GCN layers\n",
        "        self.c1 = NNConv(in_dim, hid, self.e1, aggr='mean')\n",
        "        self.c2 = NNConv(hid, hid, self.e2, aggr='mean')\n",
        "        self.c3 = NNConv(hid, out_dim, self.e3, aggr='mean')\n",
        "\n",
        "    def forward(self, x, ei, batch, ea):\n",
        "        x = self.c1(x, ei, ea).relu()\n",
        "        x = self.c2(x, ei, ea).relu()\n",
        "        x = self.c3(x, ei, ea).relu()\n",
        "        return global_mean_pool(x, batch)\n"
      ]
    },
    {
      "cell_type": "code",
      "execution_count": null,
      "metadata": {
        "id": "bHagiUINrrny"
      },
      "outputs": [],
      "source": [
        "class SolvationPredictor(nn.Module):\n",
        "    def __init__(self):\n",
        "        super().__init__()\n",
        "        self.gcn_mol = GCNEncoder(3, 64, 64)  # Input dim, hidden dim, output dim for molecule GCN\n",
        "        self.gcn_sol = GCNEncoder(3, 32, 64)  # Input dim, hidden dim, output dim for solvent GCN\n",
        "        self.mlp_sol = nn.Sequential(nn.Linear(4, 64), nn.ReLU(), nn.Linear(64, 64))\n",
        "        self.mlp_mol = nn.Sequential(nn.Linear(9, 64), nn.ReLU(), nn.Linear(64, 64))\n",
        "\n",
        "        # MLP for processing concatenated GCN outputs\n",
        "        self.mlp_gcn = nn.Sequential(\n",
        "            nn.Linear(64 + 64, 128),  # Input size is now the sum of GCN output sizes (Adjusted)\n",
        "            nn.ReLU(),\n",
        "            nn.Dropout(0.2),\n",
        "            nn.Linear(128, 64),\n",
        "            nn.ReLU()\n",
        "        )\n",
        "\n",
        "        # Second MLP to fuse GCN-derived features with descriptor features\n",
        "        self.fuse = nn.Sequential(\n",
        "            nn.Linear(64 + 64 + 64, 128),  # Input size: GCN output + solvent descriptors + molecule descriptors\n",
        "            nn.ReLU(),\n",
        "            nn.Dropout(0.2),\n",
        "            nn.Linear(128, 128),\n",
        "            nn.ReLU(),\n",
        "            nn.Dropout(0.2),\n",
        "            nn.Linear(128, 1),  # Output a single value for lambda absorption\n",
        "\n",
        "        )\n",
        "\n",
        "    def forward(self, mg, sg, sdesc, mdesc):\n",
        "        # Get the features from the GCNs\n",
        "        me = self.gcn_mol(mg.x, mg.edge_index, mg.batch, mg.edge_attr)\n",
        "        se = self.gcn_sol(sg.x, sg.edge_index, sg.batch, sg.edge_attr)\n",
        "\n",
        "        # Pass descriptors through MLPs\n",
        "        sf = self.mlp_sol(sdesc)\n",
        "        mf = self.mlp_mol(mdesc)\n",
        "\n",
        "        # Concatenate GCN outputs\n",
        "        gcn_cat = torch.cat([me, se], dim=-1)  # (Adjusted)\n",
        "\n",
        "        # Pass concatenated GCN outputs through the MLP\n",
        "        gcn_out = self.mlp_gcn(gcn_cat)\n",
        "\n",
        "        # Concatenate with descriptor features for final prediction\n",
        "        cat = torch.cat([gcn_out, sf, mf], dim=-1)  # Includes descriptor features\n",
        "\n",
        "        return self.fuse(cat).squeeze(-1)"
      ]
    },
    {
      "cell_type": "code",
      "execution_count": null,
      "metadata": {
        "id": "vOx5zoHMAkNz"
      },
      "outputs": [],
      "source": [
        "device = torch.device(\"cuda\" if torch.cuda.is_available() else \"cpu\")\n",
        "model  = SolvationPredictor().to(device)\n",
        "opt    = optim.Adam(model.parameters(), lr=1e-4, weight_decay=0)\n",
        "loss_fn=nn.SmoothL1Loss(beta=0.2)"
      ]
    },
    {
      "cell_type": "code",
      "execution_count": null,
      "metadata": {
        "id": "xSgy2WTZcvxL"
      },
      "outputs": [],
      "source": [
        "# 7) TRAINING\n",
        "train_losses, val_losses = [], []\n",
        "for ep in range(1, 101):\n",
        "    model.train()\n",
        "    t_loss, t_cnt = 0., 0\n",
        "    for mg, sg, sd, md, y, _ in train_loader:\n",
        "        mg, sg, sd, md, y = mg.to(device), sg.to(device), sd.to(device), md.to(device), y.to(device)\n",
        "        pred = model(mg, sg, sd, md)\n",
        "        loss = loss_fn(pred, y)\n",
        "        opt.zero_grad(); loss.backward(); opt.step()\n",
        "        t_loss += loss.item() * y.size(0); t_cnt += y.size(0)\n",
        "    train_losses.append(t_loss/t_cnt)\n",
        "\n",
        "    model.eval()\n",
        "    v_loss, v_cnt = 0., 0\n",
        "    with torch.no_grad():\n",
        "        for mg, sg, sd, md, y, _ in val_loader:\n",
        "            mg, sg, sd, md, y = mg.to(device), sg.to(device), sd.to(device), md.to(device), y.to(device)\n",
        "            pred = model(mg, sg, sd, md)\n",
        "            loss = loss_fn(pred, y)\n",
        "            v_loss += loss.item() * y.size(0); v_cnt += y.size(0)\n",
        "    val_losses.append(v_loss/v_cnt)\n",
        "    print(f\"Epoch {ep:02d} → Train Loss: {train_losses[-1]:.4f}, Val Loss: {val_losses[-1]:.4f}\")"
      ]
    },
    {
      "cell_type": "code",
      "execution_count": null,
      "metadata": {
        "id": "qr3vpXJuAp_f"
      },
      "outputs": [],
      "source": [
        "# Final evaluation on raw QY\n",
        "model.eval()\n",
        "ps, ts = [], []\n",
        "all_names = []\n",
        "with torch.no_grad():\n",
        "    for mg, sg, sd, md, y, _ in val_loader:\n",
        "        mg, sg, sd, md = mg.to(device), sg.to(device), sd.to(device), md.to(device)\n",
        "        p = model(mg, sg, sd, md).cpu().numpy()\n",
        "        ps.append(p)\n",
        "        ts.append(y.numpy())\n",
        "\n",
        "ps = np.concatenate(ps)\n",
        "ts = np.concatenate(ts)\n",
        "\n",
        "# Compute metrics\n",
        "mse  = mean_squared_error(ts, ps)\n",
        "rmse = np.sqrt(mse)\n",
        "r2   = r2_score(ts, ps)\n",
        "\n",
        "print(f\"MSE (QY)   = {mse:.3f}\")\n",
        "print(f\"RMSE (QY)  = {rmse:.3f}\")\n",
        "print(f\"R² (QY)    = {r2:.3f}\")\n",
        "\n",
        "# Scatter plot\n",
        "plt.figure(figsize=(5,5))\n",
        "plt.scatter(ts, ps, alpha=0.6)\n",
        "mn, mx = ts.min(), ts.max()\n",
        "plt.plot([mn, mx], [mn, mx], 'k--')\n",
        "plt.xlabel(\"Actual QY\")\n",
        "plt.ylabel(\"Predicted QY\")\n",
        "plt.title(\"QY: Pred vs. Actual\")\n",
        "plt.tight_layout()\n",
        "plt.show()\n",
        "\n"
      ]
    },
    {
      "cell_type": "code",
      "source": [
        "# Final evaluation on raw QY\n",
        "model.eval()\n",
        "ps, ts = [], []\n",
        "all_names = []\n",
        "with torch.no_grad():\n",
        "    for mg, sg, sd, md, y, names in val_loader: # Capture solvent names\n",
        "        mg, sg, sd, md = mg.to(device), sg.to(device), sd.to(device), md.to(device)\n",
        "        p = model(mg, sg, sd, md).cpu().numpy()\n",
        "        ps.append(p)\n",
        "        ts.append(y.numpy())\n",
        "        all_names.extend(names) # Append solvent names\n",
        "\n",
        "ps = np.concatenate(ps)\n",
        "ts = np.concatenate(ts)\n",
        "\n",
        "# Compute metrics\n",
        "mse  = mean_squared_error(ts, ps)\n",
        "rmse = np.sqrt(mse)\n",
        "r2   = r2_score(ts, ps)\n",
        "\n",
        "print(f\"MSE (QY)   = {mse:.3f}\")\n",
        "print(f\"RMSE (QY)  = {rmse:.3f}\")\n",
        "print(f\"R² (QY)    = {r2:.3f}\")\n",
        "\n",
        "# Scatter plot\n",
        "plt.figure(figsize=(5,5))\n",
        "plt.scatter(ts, ps, alpha=0.6)\n",
        "mn, mx = ts.min(), ts.max()\n",
        "plt.plot([mn, mx], [mn, mx], 'k--')\n",
        "plt.xlabel(\"Actual QY\")\n",
        "plt.ylabel(\"Predicted QY\")\n",
        "plt.title(\"QY: Pred vs. Actual\")\n",
        "plt.tight_layout()\n",
        "plt.show()\n",
        "res_df = pd.DataFrame({\n",
        "    'solvent_name':        all_names, # all_names is now populated\n",
        "    'actual_QY':           ts,\n",
        "    'predicted_QY':        ps\n",
        "})\n",
        "# Save to Excel\n",
        "res_df.to_excel(\"QY_predictions.xlsx\", index=False)\n",
        "print(\"✅ Saved QY_predictions.xlsx\")\n",
        "\n",
        "# Plot train vs. validation loss\n",
        "plt.figure(figsize=(6,4))\n",
        "plt.plot(range(1, len(train_losses)+1), train_losses, label='Train Loss')\n",
        "plt.plot(range(1, len(val_losses)+1),   val_losses,   label='Val Loss')\n",
        "plt.xlabel('Epoch')\n",
        "plt.ylabel('Loss')\n",
        "plt.title('Training vs. Validation Loss')\n",
        "plt.legend()\n",
        "plt.tight_layout()\n",
        "plt.show()\n",
        "\n",
        "\n",
        "plt.figure(figsize=(6,4))\n",
        "plt.plot(range(1,101), train_losses, label='Train')\n",
        "plt.plot(range(1,101), val_losses,   label='Val')\n",
        "plt.xlabel('Epoch'); plt.ylabel('Loss')\n",
        "plt.title('Training vs. Validation Loss'); plt.legend(); plt.tight_layout(); plt.show()"
      ],
      "metadata": {
        "id": "y193F8_MgUmp"
      },
      "execution_count": null,
      "outputs": []
    },
    {
      "cell_type": "code",
      "execution_count": null,
      "metadata": {
        "id": "Q7_5VmnpAts7"
      },
      "outputs": [],
      "source": [
        "torch.save(model.state_dict(), \"model_QY.pt\")\n"
      ]
    },
    {
      "cell_type": "code",
      "execution_count": null,
      "metadata": {
        "id": "3g6x3hZKu0wm"
      },
      "outputs": [],
      "source": [
        "from google.colab import files\n",
        "files.download(\"model_QY.pt\")\n"
      ]
    }
  ],
  "metadata": {
    "accelerator": "GPU",
    "colab": {
      "gpuType": "T4",
      "provenance": [],
      "authorship_tag": "ABX9TyO0X5HUyWzm1Voh8fnPhqi4",
      "include_colab_link": true
    },
    "kernelspec": {
      "display_name": "Python 3",
      "name": "python3"
    },
    "language_info": {
      "name": "python"
    }
  },
  "nbformat": 4,
  "nbformat_minor": 0
}